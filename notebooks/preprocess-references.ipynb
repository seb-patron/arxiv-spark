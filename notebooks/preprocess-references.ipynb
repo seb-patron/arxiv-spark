{
 "cells": [
  {
   "cell_type": "markdown",
   "id": "e1209960-cb22-4aa4-96c1-6bec14b92a40",
   "metadata": {},
   "source": [
    "# Step 1: Import Libraries and Set Up Paths"
   ]
  },
  {
   "cell_type": "code",
   "execution_count": 1,
   "id": "2aedefa8-7b20-4176-90f0-1185ccd24f15",
   "metadata": {},
   "outputs": [
    {
     "name": "stdout",
     "output_type": "stream",
     "text": [
      "Reading file: ../data/internal-references-pdftotext.json\n",
      "File size: 125.57 MB\n"
     ]
    }
   ],
   "source": [
    "import pandas as pd\n",
    "import json\n",
    "import os\n",
    "from pathlib import Path\n",
    "\n",
    "# Path to the JSON file\n",
    "references_path = \"../data/internal-references-pdftotext.json\"\n",
    "output_path = \"../data/internal-references-pdftotext.parquet\"\n",
    "\n",
    "print(f\"Reading file: {references_path}\")\n",
    "print(f\"File size: {os.path.getsize(references_path) / (1024 * 1024):.2f} MB\")"
   ]
  },
  {
   "cell_type": "markdown",
   "id": "3f4be814-21fb-447c-b6af-ee8f520b3ce8",
   "metadata": {},
   "source": [
    "## Step 2: Examine the JSON Structure\n",
    "Let's first look at the structure of the JSON file to understand what we're working with."
   ]
  },
  {
   "cell_type": "code",
   "execution_count": 2,
   "id": "07ac7848-3827-40d9-95a7-f7504d48e546",
   "metadata": {},
   "outputs": [
    {
     "name": "stdout",
     "output_type": "stream",
     "text": [
      "First 1000 characters of the file:\n",
      "{\"plasm-ph/9607002\": [], \"plasm-ph/9607001\": [], \"plasm-ph/9512001\": [], \"plasm-ph/9512002\": [], \"plasm-ph/9503001\": [], \"plasm-ph/9503002\": [], \"plasm-ph/9604002\": [], \"plasm-ph/9604001\": [], \"plasm-ph/9604003\": [], \"plasm-ph/9507002\": [], \"plasm-ph/9507001\": [], \"plasm-ph/9602001\": [], \"plasm-ph/9602003\": [], \"plasm-ph/9602002\": [], \"plasm-ph/9608002\": [], \"plasm-ph/9608001\": [], \"plasm-ph/9609002\": [], \"plasm-ph/9609001\": [], \"plasm-ph/9511002\": [], \"plasm-ph/9511001\": [], \"plasm-ph/9502001\": [], \"plasm-ph/9502002\": [], \"plasm-ph/9502003\": [], \"plasm-ph/9506003\": [], \"plasm-ph/9506004\": [], \"plasm-ph/9506001\": [], \"alg-geom/9211001\": [], \"alg-geom/9209001\": [], \"alg-geom/9412013\": [], \"alg-geom/9412011\": [], \"alg-geom/9412002\": [], \"alg-geom/9412007\": [], \"alg-geom/9412010\": [\"alg-geom/9509005\"], \"alg-geom/9412020\": [\"alg-geom/9505009\"], \"alg-geom/9412012\": [\"alg-geom/9407002\"], \"alg-geom/9412009\": [], \"alg-geom/9412022\": [], \"alg-geom/9412005\": [], \"alg-geom/9412017\": [\"alg-geom/94\n"
     ]
    }
   ],
   "source": [
    "# Read the first few lines of the file to understand its structure\n",
    "with open(references_path, 'r') as f:\n",
    "    first_chars = f.read(1000)  # Read first 1000 characters\n",
    "    \n",
    "print(\"First 1000 characters of the file:\")\n",
    "print(first_chars)"
   ]
  },
  {
   "cell_type": "markdown",
   "id": "51436ab1-f6ac-44c6-83f0-be9c9919c20e",
   "metadata": {},
   "source": [
    "## Step 3: Load the JSON Data\n",
    "Now let's try to load the entire JSON file. If it's too large, we'll handle that in the next steps."
   ]
  },
  {
   "cell_type": "code",
   "execution_count": 3,
   "id": "67691a60-25d2-4295-9adf-54de35c08dd6",
   "metadata": {},
   "outputs": [
    {
     "name": "stdout",
     "output_type": "stream",
     "text": [
      "Successfully loaded JSON with 1354753 entries\n",
      "\n",
      "Sample data (first 5 items):\n",
      "plasm-ph/9607002: []\n",
      "plasm-ph/9607001: []\n",
      "plasm-ph/9512001: []\n",
      "plasm-ph/9512002: []\n",
      "plasm-ph/9503001: []\n"
     ]
    }
   ],
   "source": [
    "try:\n",
    "    # Read the entire file as a single JSON object\n",
    "    with open(references_path, 'r') as f:\n",
    "        data = json.load(f)\n",
    "    \n",
    "    print(f\"Successfully loaded JSON with {len(data)} entries\")\n",
    "    \n",
    "    # Display a sample of the data\n",
    "    sample_items = list(data.items())[:5]\n",
    "    print(\"\\nSample data (first 5 items):\")\n",
    "    for source_id, target_ids in sample_items:\n",
    "        print(f\"{source_id}: {target_ids}\")\n",
    "        \n",
    "except json.JSONDecodeError as e:\n",
    "    print(f\"JSON decode error: {e}\")\n",
    "    data = None"
   ]
  },
  {
   "cell_type": "markdown",
   "id": "3c28bf39-45d8-434e-b7e7-f25a5192f148",
   "metadata": {},
   "source": [
    "## Step 4: Convert to DataFrame\n",
    "If we successfully loaded the data, let's convert it to a DataFrame format."
   ]
  },
  {
   "cell_type": "code",
   "execution_count": 4,
   "id": "fb30283a-2dd3-43ae-9d4f-1532ff7ce152",
   "metadata": {},
   "outputs": [
    {
     "name": "stdout",
     "output_type": "stream",
     "text": [
      "Created DataFrame with shape: (1354753, 2)\n",
      "\n",
      "Sample data:\n",
      "          source_id target_ids\n",
      "0  plasm-ph/9607002         []\n",
      "1  plasm-ph/9607001         []\n",
      "2  plasm-ph/9512001         []\n",
      "3  plasm-ph/9512002         []\n",
      "4  plasm-ph/9503001         []\n"
     ]
    }
   ],
   "source": [
    "if data is not None:\n",
    "    # Convert the dictionary to a format suitable for a DataFrame\n",
    "    # Each row will have a 'source_id' and 'target_ids' column\n",
    "    rows = []\n",
    "    for source_id, target_ids in data.items():\n",
    "        rows.append({\n",
    "            'source_id': source_id,\n",
    "            'target_ids': target_ids  # This is already a list\n",
    "        })\n",
    "    \n",
    "    # Create DataFrame\n",
    "    references_df = pd.DataFrame(rows)\n",
    "    \n",
    "    print(f\"Created DataFrame with shape: {references_df.shape}\")\n",
    "    print(\"\\nSample data:\")\n",
    "    print(references_df.head())\n",
    "else:\n",
    "    print(\"Skipping DataFrame creation as data loading failed\")"
   ]
  },
  {
   "cell_type": "markdown",
   "id": "74f67eea-a955-40e8-9c5b-79d9a4cc8daa",
   "metadata": {},
   "source": [
    "## Step 5: Export to Parquet Format\n",
    "Now let's export the DataFrame to Parquet format."
   ]
  },
  {
   "cell_type": "code",
   "execution_count": 5,
   "id": "dc8a8915-6aac-469c-8d91-45a25d3db0f6",
   "metadata": {},
   "outputs": [
    {
     "name": "stdout",
     "output_type": "stream",
     "text": [
      "\n",
      "Successfully exported to ../data/internal-references-pdftotext.parquet\n"
     ]
    }
   ],
   "source": [
    "if 'references_df' in locals():\n",
    "    # Export to Parquet\n",
    "    references_df.to_parquet(output_path, index=False)\n",
    "    print(f\"\\nSuccessfully exported to {output_path}\")\n",
    "else:\n",
    "    print(\"Skipping Parquet export as DataFrame creation failed\")"
   ]
  },
  {
   "cell_type": "markdown",
   "id": "8601c882-443d-4201-911c-10065f6aef0d",
   "metadata": {},
   "source": [
    "## Step 6: Create Edge List Format (Optional)\n",
    "For graph analysis, an edge list format can be more useful. Let's create that as well."
   ]
  },
  {
   "cell_type": "code",
   "execution_count": 6,
   "id": "0f91f4b5-0c80-4664-b4ea-8eb5dbd55817",
   "metadata": {},
   "outputs": [
    {
     "name": "stdout",
     "output_type": "stream",
     "text": [
      "Also created edge list format at ../data/internal-references-edges.parquet\n",
      "Edge list shape: (6849633, 2)\n"
     ]
    }
   ],
   "source": [
    "if data is not None:\n",
    "    # Create an edge list format for easier graph processing\n",
    "    # This will create a row for each source-target pair\n",
    "    edge_rows = []\n",
    "    for source_id, target_ids in data.items():\n",
    "        for target_id in target_ids:\n",
    "            edge_rows.append({\n",
    "                'source_id': source_id,\n",
    "                'target_id': target_id\n",
    "            })\n",
    "    \n",
    "    if edge_rows:\n",
    "        edge_df = pd.DataFrame(edge_rows)\n",
    "        edge_output_path = \"../data/internal-references-edges.parquet\"\n",
    "        edge_df.to_parquet(edge_output_path, index=False)\n",
    "        print(f\"Also created edge list format at {edge_output_path}\")\n",
    "        print(f\"Edge list shape: {edge_df.shape}\")\n",
    "    else:\n",
    "        print(\"No edges found in the data\")\n",
    "else:\n",
    "    print(\"Skipping edge list creation as data loading failed\")"
   ]
  },
  {
   "cell_type": "code",
   "execution_count": null,
   "id": "1fc970d9-e369-47fe-8b74-8cf16153a49c",
   "metadata": {},
   "outputs": [],
   "source": []
  }
 ],
 "metadata": {
  "kernelspec": {
   "display_name": "Python 3 (ipykernel)",
   "language": "python",
   "name": "python3"
  },
  "language_info": {
   "codemirror_mode": {
    "name": "ipython",
    "version": 3
   },
   "file_extension": ".py",
   "mimetype": "text/x-python",
   "name": "python",
   "nbconvert_exporter": "python",
   "pygments_lexer": "ipython3",
   "version": "3.11.6"
  }
 },
 "nbformat": 4,
 "nbformat_minor": 5
}
